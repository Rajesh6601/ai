{
 "cells": [
  {
   "cell_type": "markdown",
   "metadata": {},
   "source": [
    "### Building Chatbots With Multiple Tools using Langgraph\n",
    "\n",
    "## Aim\n",
    "## Create a chatbot with tools capabilities from arxiv, wikipedia serach, tavily search"
   ]
  },
  {
   "cell_type": "code",
   "execution_count": 9,
   "metadata": {},
   "outputs": [],
   "source": [
    "from dotenv import load_dotenv\n",
    "load_dotenv()\n",
    "import os\n",
    "os.environ['GROQ_API_KEY'] = os.getenv(\"GROQ_API_KEY\")\n",
    "os.environ['TAVILY_API_KEY'] = os.getenv(\"TAVILY_API_KEY\")"
   ]
  },
  {
   "cell_type": "code",
   "execution_count": 2,
   "metadata": {},
   "outputs": [],
   "source": [
    "from langchain_groq import ChatGroq\n",
    "llm=ChatGroq(model=\"deepseek-r1-distill-llama-70b\")"
   ]
  },
  {
   "cell_type": "code",
   "execution_count": 3,
   "metadata": {},
   "outputs": [],
   "source": [
    "from langchain_community.tools import ArxivQueryRun, WikipediaQueryRun\n",
    "from langchain_community.utilities import ArxivAPIWrapper, WikipediaAPIWrapper"
   ]
  },
  {
   "cell_type": "code",
   "execution_count": 5,
   "metadata": {},
   "outputs": [
    {
     "name": "stdout",
     "output_type": "stream",
     "text": [
      "arxiv\n"
     ]
    }
   ],
   "source": [
    "api_wrapper_arxiv=ArxivAPIWrapper(top_k_results=2, doc_content_chars_max=500)\n",
    "arxiv=ArxivQueryRun(api_wrapper=api_wrapper_arxiv)\n",
    "print(arxiv.name)"
   ]
  },
  {
   "cell_type": "code",
   "execution_count": 6,
   "metadata": {},
   "outputs": [
    {
     "data": {
      "text/plain": [
       "\"Published: 2024-07-22\\nTitle: Attention Is All You Need But You Don't Need All Of It For Inference of Large Language Models\\nAuthors: Georgy Tyukin, Gbetondji J-S Dovonon, Jean Kaddour, Pasquale Minervini\\nSummary: The inference demand for LLMs has skyrocketed in recent months, and serving\\nmodels with low latencies remains challenging due to the quadratic input length\\ncomplexity of the attention layers. In this work, we investigate the effect of\\ndropping MLP and attention layers at inference time o\""
      ]
     },
     "execution_count": 6,
     "metadata": {},
     "output_type": "execute_result"
    }
   ],
   "source": [
    "arxiv.invoke(\"Attention is all you need\")"
   ]
  },
  {
   "cell_type": "code",
   "execution_count": 7,
   "metadata": {},
   "outputs": [
    {
     "name": "stdout",
     "output_type": "stream",
     "text": [
      "wikipedia\n"
     ]
    }
   ],
   "source": [
    "api_wrapper_wiki=WikipediaAPIWrapper(top_k_results=1, doc_content_chars_max=500)\n",
    "wiki=WikipediaQueryRun(api_wrapper=api_wrapper_wiki)\n",
    "print(wiki.name)"
   ]
  },
  {
   "cell_type": "code",
   "execution_count": 8,
   "metadata": {},
   "outputs": [
    {
     "data": {
      "text/plain": [
       "'Page: Machine learning\\nSummary: Machine learning (ML) is a field of study in artificial intelligence concerned with the development and study of statistical algorithms that can learn from data and generalise to unseen data, and thus perform tasks without explicit instructions. Within a subdiscipline in machine learning, advances in the field of deep learning have allowed neural networks, a class of statistical algorithms, to surpass many previous machine learning approaches in performance.\\nML fi'"
      ]
     },
     "execution_count": 8,
     "metadata": {},
     "output_type": "execute_result"
    }
   ],
   "source": [
    "wiki.invoke(\"What is machine learning?\")"
   ]
  },
  {
   "cell_type": "markdown",
   "metadata": {},
   "source": [
    "### TAVILY SERACH"
   ]
  },
  {
   "cell_type": "code",
   "execution_count": 10,
   "metadata": {},
   "outputs": [
    {
     "name": "stderr",
     "output_type": "stream",
     "text": [
      "/var/folders/sz/jrcw8vsn6qv86fbpqg03p5v00000gn/T/ipykernel_5150/2141186654.py:2: LangChainDeprecationWarning: The class `TavilySearchResults` was deprecated in LangChain 0.3.25 and will be removed in 1.0. An updated version of the class exists in the :class:`~langchain-tavily package and should be used instead. To use it run `pip install -U :class:`~langchain-tavily` and import as `from :class:`~langchain_tavily import TavilySearch``.\n",
      "  tavily=TavilySearchResults()\n"
     ]
    },
    {
     "data": {
      "text/plain": [
       "[{'title': 'Artificial Intelligence - Latest AI News and Analysis - WSJ.com',\n",
       "  'url': 'https://www.wsj.com/tech/ai?gaa_at=eafs&gaa_n=ASWzDAjZbKWnFDuucZL3nNike5VaWOlEoQO5sV81gZVECMLU5GQW3DUV-_gU&gaa_ts=685a1f06&gaa_sig=_BSXCgoVLhtE7_4e2lNG4Ps_-e4f-VhMuMPur73A93h13-thWLmSdxORLClDZ4oS6cjYUXcxp7FmtdJ7csaarg%3D%3D',\n",
       "  'content': 'From Killer Drones to Robotaxis, Sci-Fi Dreams Are Coming to Life. AI and deep-pocketed billionaires are amping up interest in hardware in a new way.',\n",
       "  'score': 0.71425},\n",
       " {'title': 'Artificial intelligence - NBC News',\n",
       "  'url': 'https://www.nbcnews.com/artificial-intelligence',\n",
       "  'content': \"Profile\\n\\nSections\\n\\nLocal\\n\\ntv\\n\\nFeatured\\n\\nMore From NBC\\n\\nFollow NBC News\\n\\nnews Alerts\\n\\nThere are no new alerts at this time\\n\\n# ARTIFICIAL INTELLIGENCE\\n\\nThe latest news and top stories on artificial intelligence, including ChatGPT, AI Chatbot and Bard.\\n\\n![People use computers in a computer lab](https://media-cldnry.s-nbcnews.com/image/upload/t_focal-762x508,f_auto,q_auto:best/rockcms/2025-06/250617-2x1-computer-class-vl-413p-85345a.jpg) [...] ## Nvidia CEO hails Trump's plan to rescind some export curbs on AI chips to China\\n\\n![Jensen Huang](https://media-cldnry.s-nbcnews.com/image/upload/t_focal-200x100,f_auto,q_auto:best/rockcms/2025-05/250521-Jensen-Huang-RS-5faf64.jpg)\\n![Jensen Huang](https://media-cldnry.s-nbcnews.com/image/upload/t_focal-200x100,f_auto,q_auto:best/rockcms/2025-05/250521-Jensen-Huang-RS-5faf64.jpg)\\n\\n## Google I/O 2025: Gemini AI, Android XR glasses, Google Beam, Project Astra, Chrome and deep search news [...] ![](https://media-cldnry.s-nbcnews.com/image/upload/t_focal-260x130,f_auto,q_auto:best/mpx/2704722219/2025_03/1743128535176_now_staytuned_man_chatgpt_complaint_250327_1920x1080-fhevmx.jpg)\\n\\n## 02:35\\n\\n### [Man files complaint after ChatGPT falsely claimed he murdered his children](https://www.nbcnews.com/now/video/man-files-complaint-after-chatgpt-falsely-claimed-he-murdered-his-children-235630661781)\\n\\n## NBC News NOW\\n\\n## MORE AI NEWS\",\n",
       "  'score': 0.7036111},\n",
       " {'title': 'AI News | Latest Headlines and Developments | Reuters',\n",
       "  'url': 'https://www.reuters.com/technology/artificial-intelligence/',\n",
       "  'content': '# Artificial Intelligence\\n\\nHow Artificial Intelligence is creating the next normal\\n\\nThe National Highway Traffic Safety Administration is seeking information from Tesla after reviewing online videos of a robotaxi allegedly using the wrong lane and of speeding by another driverless vehicle.\\n\\n![Tesla robotaxis launch in Austin, Texas](https://www.reuters.com/resizer/v2/Y3DWQNO6GRLAVL6TWBMCJ4ZABE.jpg?auth=7bdcc66b55592f17537f1b85f5428d4d18e33f694446fe8c001ea38da526adce&width=1200&quality=80) [...] 15-16 Jul 2025 · San Jose, USA\\n\\n![Artificial Intelligence Chip with Reuters logo](https://www.reuters.com/resizer/v2/GKT2AROG7VC4PGQUWJ4NHDDUSQ.jpg?auth=fa1702fc494037c9d1294fe9384981105e099c5b3f43b67f26d3b6e8ccc0f367&height=480&width=480&quality=80&smart=true)\\n\\nEvent\\n\\n17 Sep 2025 · Singapore, USA [...] ![Artificial Intelligence silicon chip with Reuters logo](https://www.reuters.com/resizer/v2/GSJJBHD7P5CDRODH727CQTOFUU.jpg?auth=943259dbe714440e27bb4882335b2f9eaddc87e4324f635b849474cfc8b61339&height=480&width=480&quality=80&smart=true)\\n\\nEvent\\n\\n29-30 Sep 2025 · London, UK',\n",
       "  'score': 0.6636041},\n",
       " {'title': 'AI News & Artificial Intelligence | TechCrunch',\n",
       "  'url': 'https://techcrunch.com/category/artificial-intelligence/',\n",
       "  'content': '![](https://techcrunch.com/wp-content/uploads/2024/09/tc-lockup.svg)\\n![](https://techcrunch.com/wp-content/uploads/2024/09/tc-logo-mobile.svg)\\n\\n### Topics\\n\\n[Latest](/latest/)\\n\\n[AI](/category/artificial-intelligence/)\\n\\n[Amazon](/tag/amazon/)\\n\\n[Apps](/category/apps/)\\n\\n[Biotech & Health](/category/biotech-health/)\\n\\n[Climate](/category/climate/)\\n\\n[Cloud Computing](/tag/cloud-computing/)\\n\\n[Commerce](/category/commerce/)\\n\\n[Crypto](/category/cryptocurrency/)\\n\\n[Enterprise](/category/enterprise/) [...] ### [Character.AI taps Meta’s former VP of business products as CEO](https://techcrunch.com/2025/06/20/character-ai-taps-metas-former-vp-of-business-products-as-ceo/)\\n\\n![Open AI CEO Sam Altman](https://techcrunch.com/wp-content/uploads/2025/04/GettyImages-2197366846.jpg?w=562)\\n\\n### [Could OpenAI fill Microsoft’s shoes?](https://techcrunch.com/podcast/could-openai-fill-microsofts-shoes/)\\n\\n![Deezer AI](https://techcrunch.com/wp-content/uploads/2025/06/deezer-ai-tags.jpg?w=668) [...] ![Robots work on a contract and review a legal book to illustrate AI usage in law.](https://techcrunch.com/wp-content/uploads/2023/09/GettyImages-1474442258.jpg?w=668)\\n\\n### [Four months after a $3B valuation, Harvey AI grows to $5B](https://techcrunch.com/2025/06/23/four-months-after-a-3b-valuation-harvey-ai-grows-to-5b/)\\n\\n![Amazon event](https://techcrunch.com/wp-content/uploads/2025/02/1000002054.jpg?w=499)',\n",
       "  'score': 0.65412235},\n",
       " {'title': 'AI News | Latest AI News, Analysis & Events',\n",
       "  'url': 'https://www.artificialintelligence-news.com/',\n",
       "  'content': 'The OpenAI Files: Ex-staff claim profit greed betraying AI safety · Apple hints at AI integration in chip design process · AI adoption matures but deployment',\n",
       "  'score': 0.6450534}]"
      ]
     },
     "execution_count": 10,
     "metadata": {},
     "output_type": "execute_result"
    }
   ],
   "source": [
    "from langchain_community.tools.tavily_search import TavilySearchResults\n",
    "tavily=TavilySearchResults()\n",
    "tavily.invoke(\"What is the latest news in AI?\")"
   ]
  },
  {
   "cell_type": "code",
   "execution_count": 11,
   "metadata": {},
   "outputs": [],
   "source": [
    "tools=[arxiv, wiki, tavily]"
   ]
  },
  {
   "cell_type": "code",
   "execution_count": 14,
   "metadata": {},
   "outputs": [],
   "source": [
    "from langchain_groq import ChatGroq\n",
    "llm=ChatGroq(model=\"deepseek-r1-distill-llama-70b\")\n",
    "llm_with_tools=llm.bind_tools(tools)"
   ]
  },
  {
   "cell_type": "code",
   "execution_count": 15,
   "metadata": {},
   "outputs": [
    {
     "data": {
      "text/plain": [
       "AIMessage(content='', additional_kwargs={'tool_calls': [{'id': 'janshw0j2', 'function': {'arguments': '{\"query\":\"recent news in AI\"}', 'name': 'tavily_search_results_json'}, 'type': 'function'}]}, response_metadata={'token_usage': {'completion_tokens': 77, 'prompt_tokens': 329, 'total_tokens': 406, 'completion_time': 0.361290556, 'prompt_time': 0.031504553, 'queue_time': 0.054537016, 'total_time': 0.392795109}, 'model_name': 'deepseek-r1-distill-llama-70b', 'system_fingerprint': 'fp_1bbe7845ec', 'finish_reason': 'tool_calls', 'logprobs': None}, id='run--59e3a66f-e83d-47bd-9a19-97a7fd09fbf7-0', tool_calls=[{'name': 'tavily_search_results_json', 'args': {'query': 'recent news in AI'}, 'id': 'janshw0j2', 'type': 'tool_call'}], usage_metadata={'input_tokens': 329, 'output_tokens': 77, 'total_tokens': 406})"
      ]
     },
     "execution_count": 15,
     "metadata": {},
     "output_type": "execute_result"
    }
   ],
   "source": [
    "from pprint import pprint\n",
    "from langchain_core.messages import AIMessage, HumanMessage\n",
    "llm_with_tools.invoke([(HumanMessage(content=f\"What is the recent news in AI\"))])"
   ]
  },
  {
   "cell_type": "code",
   "execution_count": 16,
   "metadata": {},
   "outputs": [],
   "source": [
    "## State Schema\n",
    "from typing_extensions import TypedDict\n",
    "from langchain_core.messages import AnyMessage\n",
    "from typing import Annotated\n",
    "from langgraph.graph.message import add_messages\n",
    "class State(TypedDict):\n",
    "    messages:Annotated[list[AnyMessage], add_messages]"
   ]
  },
  {
   "cell_type": "code",
   "execution_count": 34,
   "metadata": {},
   "outputs": [
    {
     "data": {
      "text/plain": [
       "<langgraph.graph.state.StateGraph at 0x118059130>"
      ]
     },
     "execution_count": 34,
     "metadata": {},
     "output_type": "execute_result"
    }
   ],
   "source": [
    "## Entire Chatbot witjh Langgraph\n",
    "from IPython.display import Image, display\n",
    "from langgraph.graph import StateGraph, START, END\n",
    "from langgraph.prebuilt import ToolNode\n",
    "from langgraph.prebuilt import tools_condition\n",
    "\n",
    "##Node definition\n",
    "def tool_calling_llm(state:State):\n",
    "    return {\"messages\" :[llm_with_tools.invoke(state[\"messages\"])]}\n",
    "\n",
    "#Build Graph\n",
    "builder=StateGraph(State)\n",
    "builder.add_node(\"tool_calling_llm\", tool_calling_llm)\n",
    "builder.add_node(\"tools\", ToolNode(tools))\n",
    "builder.add_edge(START, \"tool_calling_llm\")\n",
    "builder.add_conditional_edges(\"tool_calling_llm\", tools_condition)\n",
    "builder.add_edge(\"tools\", \"tool_calling_llm\")\n",
    "\n"
   ]
  },
  {
   "cell_type": "code",
   "execution_count": 35,
   "metadata": {},
   "outputs": [
    {
     "data": {
      "image/png": "[encoded data removed]",
      "text/plain": [
       "<IPython.core.display.Image object>"
      ]
     },
     "metadata": {},
     "output_type": "display_data"
    }
   ],
   "source": [
    "graph=builder.compile()\n",
    "display(Image(graph.get_graph().draw_mermaid_png()))"
   ]
  },
  {
   "cell_type": "code",
   "execution_count": 22,
   "metadata": {},
   "outputs": [],
   "source": [
    "from pprint import pprint"
   ]
  },
  {
   "cell_type": "code",
   "execution_count": 36,
   "metadata": {},
   "outputs": [
    {
     "name": "stdout",
     "output_type": "stream",
     "text": [
      "================================\u001b[1m Human Message \u001b[0m=================================\n",
      "\n",
      "What is attention is all you need and what is 2 plus 2\n",
      "==================================\u001b[1m Ai Message \u001b[0m==================================\n",
      "Tool Calls:\n",
      "  arxiv (bec4zvh3e)\n",
      " Call ID: bec4zvh3e\n",
      "  Args:\n",
      "    query: Attention Is All You Need\n",
      "=================================\u001b[1m Tool Message \u001b[0m=================================\n",
      "Name: arxiv\n",
      "\n",
      "Published: 2024-07-22\n",
      "Title: Attention Is All You Need But You Don't Need All Of It For Inference of Large Language Models\n",
      "Authors: Georgy Tyukin, Gbetondji J-S Dovonon, Jean Kaddour, Pasquale Minervini\n",
      "Summary: The inference demand for LLMs has skyrocketed in recent months, and serving\n",
      "models with low latencies remains challenging due to the quadratic input length\n",
      "complexity of the attention layers. In this work, we investigate the effect of\n",
      "dropping MLP and attention layers at inference time o\n",
      "==================================\u001b[1m Ai Message \u001b[0m==================================\n",
      "\n",
      "\"Attention Is All You Need\" is a seminal research paper published in 2017 by Ashish Vaswani et al., which introduced the Transformer model. This model revolutionized natural language processing by relying entirely on self-attention mechanisms, eliminating the need for recurrent neural networks (RNNs) and convolutional neural networks (CNNs) in sequence modeling tasks. The paper is often referred to as the foundation of modern large language models.\n",
      "\n",
      "As for the math question: 2 plus 2 equals 4.\n"
     ]
    }
   ],
   "source": [
    "messages=graph.invoke({\"messages\":HumanMessage(content=\"What is attention is all you need and what is 2 plus 2\")})\n",
    "for message in messages[\"messages\"]:\n",
    "    message.pretty_print()"
   ]
  },
  {
   "cell_type": "code",
   "execution_count": 30,
   "metadata": {},
   "outputs": [
    {
     "name": "stdout",
     "output_type": "stream",
     "text": [
      "================================\u001b[1m Human Message \u001b[0m=================================\n",
      "\n",
      "What are best practices in AI\n",
      "==================================\u001b[1m Ai Message \u001b[0m==================================\n",
      "Tool Calls:\n",
      "  tavily_search_results_json (mydtkf66x)\n",
      " Call ID: mydtkf66x\n",
      "  Args:\n",
      "    query: best practices in AI 2023\n",
      "=================================\u001b[1m Tool Message \u001b[0m=================================\n",
      "Name: tavily_search_results_json\n",
      "\n",
      "[{\"title\": \"The state of AI in 2023: Generative AI's breakout year | McKinsey\", \"url\": \"https://www.mckinsey.com/capabilities/quantumblack/our-insights/the-state-of-ai-in-2023-generative-ais-breakout-year\", \"content\": \"The findings offer further evidence that even high performers haven’t mastered best practices regarding AI adoption, such as machine-learning-operations (MLOps) approaches, though they are much more likely than others to do so. For example, just 35 percent of respondents at AI high performers report that where possible, their organizations assemble existing components, rather than reinvent them, but that’s a much larger share than the 19 percent of respondents from other organizations who [...] report that practice. [...] Many [specialized MLOps technologies and practices](https://www.mckinsey.com/capabilities/quantumblack/our-insights/exploring-opportunities-in-the-generative-ai-value-chain)may be needed to adopt some of the more transformative uses cases that gen AI applications can deliver—and do so as safely as possible. Live-model operations is one such area, where monitoring systems and setting up instant alerts to enable rapid issue resolution can keep gen AI systems in check. High performers stand out in\", \"score\": 0.78670514}, {\"title\": \"Best Practices for Using AI Tools as an Author, Peer Reviewer, or ...\", \"url\": \"https://www.jmir.org/2023/1/e51584\", \"content\": \"## Citation\\n\\nPlease cite as:\\n\\nLeung TI,\\nde Azevedo Cardoso T,\\nMavragani A,\\nEysenbach G   \\n Best Practices for Using AI Tools as an Author, Peer Reviewer, or Editor   \\n J Med Internet Res 2023;25:e51584   \\n doi:\\n[10.2196/51584](https://doi.org/10.2196/51584) \\nPMID:\\n[37651164](https://www.ncbi.nlm.nih.gov/pubmed/37651164) \\nPMCID:\\n[10502596](https://www.ncbi.nlm.nih.gov/pmc/articles/10502596)\\n\\n## Export Metadata\\n\\n## This paper is in the following e-collection/theme issue:\\n\\n## Download [...] In another example, Anthropic’s Claude also has clearly stated language in their July 8, 2023, Terms of Service ([Figure 1](#figure1) and [Multimedia Appendix 2](#app2)): “You represent and warrant that you have all rights, and have provided any notices and obtained any consents that are necessary for us to process any Prompts you submit to the Services in accordance with our Terms. You also represent and warrant that your submission of Prompts to us will not violate our Terms...including [...] free version of Open AI’s ChatGPT, their March 14, 2023, Terms of Use ([Figure 1](#figure1) and [Multimedia Appendix 1](#app1)) do not exclude the potential for secondary use or reuse of provided information (“Input”), although the use of their application programming interface (API) suggests that they would exclude the reuse of input: “We do not use Content that you provide to or receive from our API to develop or improve our Services. We may use Content from Services other than our API to\", \"score\": 0.6864757}, {\"title\": \"Effective Prompts for AI: The Essentials\", \"url\": \"https://mitsloanedtech.mit.edu/ai/basics/effective-prompts/\", \"content\": \"You can continue to build upon AI’s responses just by adding other prompts. New models continue to improve the ability to carry context across interactions as context windows grow larger (OpenAI, 2023). This iterative process unlocks more potential from AI (Neil, 2023). This continuity can also become a hindrance if you want to work on a new topic, at which point it’s best to start a new chat.\\n\\nLimitations\\n----------- [...] Acar (2023) foresees a future where advanced AI systems will be able to intuit our intentions without deliberate prompts. He calls for our attention the difference between problems and prompts. “Prompt engineering focuses on crafting the optimal textual input by selecting the appropriate words, phrases, sentence structures, and punctuation. In contrast, problem formulation emphasizes defining the problem by delineating its focus, scope, and boundaries.” (Acar, 2023). In the long run, it may be [...] Being specific and providing more details helps you understand your prompt better and generates a more customized response with fewer errors (Neil, 2023).\\n\\n### Building On the Conversation\\n\\nMany AI systems take the form of a chat window. These chat-based systems are capable of remembering what happened earlier in your conversation without re-establishing context (Liu, 2023).\", \"score\": 0.638588}, {\"title\": \"AI Principles - Google AI\", \"url\": \"https://ai.google/principles/\", \"content\": \"We believe [our approach](https://blog.google/technology/ai/google-responsible-ai-io-2023/?utm_source=ai.google&utm_medium=referral) to AI must be both bold and responsible. Bold in rapidly innovating and deploying AI in groundbreaking products used by and benefiting people everywhere, contributing to scientific advances that deepen our understanding of the world, and helping humanity address its most pressing challenges and opportunities. And responsible in developing and deploying AI that\", \"score\": 0.6244086}, {\"title\": \"Leading The AI Revolution: Best Practices For Executive Leaders\", \"url\": \"https://www.forbes.com/councils/forbescoachescouncil/2023/08/14/leading-the-ai-revolution-best-practices-for-executive-leaders/\", \"content\": \"Five Best Practices For Using AI · 1. Set clear objectives. · 2. Maintain data quality and privacy. · 3. Build a learning culture. · 4. Consider\", \"score\": 0.5377946}]\n"
     ]
    }
   ],
   "source": [
    "messages=graph.invoke({\"messages\":HumanMessage(content=\"What is recent news in AI\")})\n",
    "messages=graph.invoke({\"messages\":HumanMessage(content=\"What are best practices in AI\")})\n",
    "for message in messages[\"messages\"]:\n",
    "    message.pretty_print()"
   ]
  },
  {
   "cell_type": "code",
   "execution_count": 31,
   "metadata": {},
   "outputs": [
    {
     "name": "stdout",
     "output_type": "stream",
     "text": [
      "================================\u001b[1m Human Message \u001b[0m=================================\n",
      "\n",
      "What is machine learning\n",
      "==================================\u001b[1m Ai Message \u001b[0m==================================\n",
      "\n",
      "Machine learning is a subset of artificial intelligence (AI) that involves the use of algorithms and statistical models to enable machines to perform a specific task without using explicit instructions, instead relying on patterns and inference from data. In simpler terms, machine learning allows computers to learn from data and improve their performance on a task over time.\n",
      "\n",
      "There are several types of machine learning, including:\n",
      "\n",
      "1. **Supervised Learning**: The model is trained on labeled data, meaning the data is already tagged with the correct output. The model learns by example to make predictions or decisions.\n",
      "\n",
      "2. **Unsupervised Learning**: The model is trained on unlabeled data and aims to find hidden patterns or intrinsic structures in the data.\n",
      "\n",
      "3. **Reinforcement Learning**: The model learns by interacting with an environment and receiving rewards or penalties for its actions, aiming to maximize the cumulative reward.\n",
      "\n",
      "Machine learning is widely used in applications such as image recognition, natural language processing, predictive analytics, recommendation systems, and autonomous vehicles.\n"
     ]
    }
   ],
   "source": [
    "messages=graph.invoke({\"messages\":HumanMessage(content=\"What is machine learning\")})\n",
    "for message in messages[\"messages\"]:\n",
    "    message.pretty_print()"
   ]
  }
 ],
 "metadata": {
  "kernelspec": {
   "display_name": "Python 3",
   "language": "python",
   "name": "python3"
  },
  "language_info": {
   "codemirror_mode": {
    "name": "ipython",
    "version": 3
   },
   "file_extension": ".py",
   "mimetype": "text/x-python",
   "name": "python",
   "nbconvert_exporter": "python",
   "pygments_lexer": "ipython3",
   "version": "3.12.0"
  }
 },
 "nbformat": 4,
 "nbformat_minor": 2
}
