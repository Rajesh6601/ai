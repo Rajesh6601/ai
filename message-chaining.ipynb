{
 "cells": [
  {
   "cell_type": "code",
   "execution_count": 1,
   "metadata": {},
   "outputs": [],
   "source": [
    "from dotenv import load_dotenv\n",
    "load_dotenv()\n",
    "import os\n",
    "os.environ['GROQ_API_KEY'] = os.getenv(\"GROQ_API_KEY\")"
   ]
  },
  {
   "cell_type": "code",
   "execution_count": 6,
   "metadata": {},
   "outputs": [
    {
     "name": "stdout",
     "output_type": "stream",
     "text": [
      "==================================\u001b[1m Ai Message \u001b[0m==================================\n",
      "Name: LLMModel\n",
      "\n",
      "Please tell me how can i help\n",
      "================================\u001b[1m Human Message \u001b[0m=================================\n",
      "Name: Rajesh\n",
      "\n",
      "i want to learn coding\n",
      "==================================\u001b[1m Ai Message \u001b[0m==================================\n",
      "Name: LLMModel\n",
      "\n",
      "Which programming language you want to learn\n",
      "================================\u001b[1m Human Message \u001b[0m=================================\n",
      "Name: Rajesh\n",
      "\n",
      "I want to learn python\n"
     ]
    }
   ],
   "source": [
    "from langchain_core.messages import AIMessage, HumanMessage\n",
    "from pprint import pprint\n",
    "\n",
    "messages=[AIMessage(content=f\"Please tell me how can i help\", name=\"LLMModel\")]\n",
    "messages.append(HumanMessage(content=f\"i want to learn coding\", name=\"Rajesh\"))\n",
    "messages.append(AIMessage(content=f\"Which programming language you want to learn\", name=\"LLMModel\"))\n",
    "messages.append(HumanMessage(content=f\"I want to learn python\", name=\"Rajesh\"))\n",
    "\n",
    "for message in messages:\n",
    "    message.pretty_print()\n"
   ]
  },
  {
   "cell_type": "code",
   "execution_count": 9,
   "metadata": {},
   "outputs": [
    {
     "data": {
      "text/plain": [
       "{'token_usage': {'completion_tokens': 1765,\n",
       "  'prompt_tokens': 32,\n",
       "  'total_tokens': 1797,\n",
       "  'completion_time': 6.418181818,\n",
       "  'prompt_time': 0.002106653,\n",
       "  'queue_time': 0.052335607,\n",
       "  'total_time': 6.420288471},\n",
       " 'model_name': 'deepseek-r1-distill-llama-70b',\n",
       " 'system_fingerprint': 'fp_1bbe7845ec',\n",
       " 'finish_reason': 'stop',\n",
       " 'logprobs': None}"
      ]
     },
     "execution_count": 9,
     "metadata": {},
     "output_type": "execute_result"
    }
   ],
   "source": [
    "from langchain_groq import ChatGroq\n",
    "llm=ChatGroq(model=\"deepseek-r1-distill-llama-70b\")\n",
    "result=llm.invoke(messages)\n",
    "result.response_metadata"
   ]
  },
  {
   "cell_type": "code",
   "execution_count": 10,
   "metadata": {},
   "outputs": [
    {
     "data": {
      "text/plain": [
       "AIMessage(content='<think>\\nAlright, the user initially asked how they could help, which is pretty broad. I responded by asking which programming language they wanted to learn. They chose Python, which is a great choice for beginners because it\\'s user-friendly and versatile.\\n\\nNow, looking at their latest query, \"I want to learn python,\" I need to provide a structured and encouraging response. They\\'re probably just starting out, so I should make the information easy to digest.\\n\\nFirst, I should explain why Python is a good choice. It\\'s important to build their confidence and show that they made the right decision. Next, I\\'ll outline the steps they need to take. Starting with the basics makes sense, so I\\'ll break it down into sections like syntax, variables, control flow, functions, data structures, file handling, and OOP concepts.\\n\\nIncluding resources is crucial. They might not know where to start, so suggesting textbooks, online courses, websites, and YouTube channels can guide them. It\\'s also helpful to mention communities like Reddit and Stack Overflow for support.\\n\\nSetting up the environment is a practical step they\\'ll need to take, so I\\'ll walk them through installing Python and choosing an IDE. Starting small with simple projects will help them build confidence. I\\'ll list some project ideas to get them started.\\n\\nPractice is key, so I\\'ll emphasize consistent practice and maybe suggest coding challenges. Intermediate topics like libraries and frameworks should come next, with examples they can explore. Building real-world projects will help them apply what they\\'ve learned.\\n\\nFinally, I\\'ll encourage them to keep learning and remind them that practice is essential. Ending on a positive note will motivate them to keep going.\\n</think>\\n\\nGreat choice! Python is a wonderful programming language to learn, especially for beginners. It is simple, intuitive, and widely used in many fields like web development, data science, artificial intelligence, and more. Here’s a step-by-step guide to help you get started:\\n\\n---\\n\\n### 1. **Understand the Basics**\\nStart by learning the basic syntax and concepts of Python. This includes:\\n   - **Variables**: How to store and manipulate data.\\n   - **Print Function**: Outputting text or results.\\n   - **Comments**: How to add notes in your code.\\n   - **Indentation**: Python uses indentation to define code blocks.\\n\\n   **Example:**\\n   ```python\\n   # This is a comment\\n   print(\"Hello, World!\")  # This will print \"Hello, World!\"\\n   name = \"John\"  # Storing a string in a variable\\n   print(name)  # Output: John\\n   ```\\n\\n---\\n\\n### 2. **Learn Control Flow**\\nControl flow statements determine the flow of your program’s execution.\\n   - **If-Else Statements**: For conditional logic.\\n   - **For Loops**: For iterating over sequences (lists, tuples, etc.).\\n   - **While Loops**: For repeating tasks while a condition is true.\\n\\n   **Example:**\\n   ```python\\n   # If-Else Example\\n   age = 18\\n   if age >= 18:\\n       print(\"You are an adult.\")\\n   else:\\n       print(\"You are a minor.\")\\n\\n   # For Loop Example\\n   fruits = [\"Apple\", \"Banana\", \"Cherry\"]\\n   for fruit in fruits:\\n       print(fruit)\\n   ```\\n\\n---\\n\\n### 3. **Work with Functions**\\nFunctions are reusable blocks of code that perform specific tasks.\\n   - Define a function using `def`.\\n   - Call the function by its name.\\n\\n   **Example:**\\n   ```python\\n   def greet(name):\\n       print(f\"Hello, {name}!\")\\n\\n   greet(\"Alice\")  # Output: Hello, Alice!\\n   ```\\n\\n---\\n\\n### 4. **Understand Data Structures**\\nPython has several built-in data structures to store and manage data.\\n   - **Lists**: Ordered collections of items.\\n   - **Tuples**: Immutable ordered collections of items.\\n   - **Dictionaries**: Unordered collections of key-value pairs.\\n   - **Sets**: Unordered collections of unique items.\\n\\n   **Example:**\\n   ```python\\n   # List\\n   my_list = [1, 2, 3, \"Hello\"]\\n   print(my_list[0])  # Output: 1\\n\\n   # Dictionary\\n   person = {\"name\": \"John\", \"age\": 30}\\n   print(person[\"name\"])  # Output: John\\n   ```\\n\\n---\\n\\n### 5. **File Handling**\\nLearn how to read from and write to files.\\n   - Use `open()`, `read()`, `write()`, and `close()` functions.\\n\\n   **Example:**\\n   ```python\\n   # Writing to a file\\n   with open(\"greeting.txt\", \"w\") as file:\\n       file.write(\"Hello, World!\")\\n\\n   # Reading from a file\\n   with open(\"greeting.txt\", \"r\") as file:\\n       print(file.read())  # Output: Hello, World!\\n   ```\\n\\n---\\n\\n### 6. **Object-Oriented Programming (OOP)**\\nPython supports OOP concepts like classes and objects.\\n   - **Classes**: Templates for creating objects.\\n   - **Objects**: Instances of a class.\\n   - **Methods**: Functions defined inside a class.\\n\\n   **Example:**\\n   ```python\\n   class Car:\\n       def __init__(self, brand, model, year):\\n           self.brand = brand\\n           self.model = model\\n           self.year = year\\n\\n       def print_details(self):\\n           print(f\"This car is a {self.year} {self.brand} {self.model}.\")\\n\\n   my_car = Car(\"Toyota\", \"Corolla\", 2020)\\n   my_car.print_details()  # Output: This car is a 2020 Toyota Corolla.\\n   ```\\n\\n---\\n\\n### 7. **Use Libraries and Frameworks**\\nPython has a vast collection of libraries and frameworks that make development easier.\\n   - **Standard Library**: Built-in modules like `math`, `random`, `datetime`, etc.\\n   - **Third-Party Libraries**: Install using `pip` (e.g., `numpy`, `pandas`, `requests`, etc.).\\n\\n   **Example:**\\n   ```python\\n   import math\\n   print(math.pi)  # Output: 3.141592653589793\\n\\n   import requests\\n   response = requests.get(\"https://www.google.com\")\\n   print(response.status_code)  # Output: 200\\n   ```\\n\\n---\\n\\n### 8. **Practice, Practice, Practice!**\\nThe best way to learn Python is by writing code. Start with small projects like:\\n   - Calculator\\n   - To-Do List\\n   - Guessing Game\\n   - Web Scraper\\n\\nYou can also solve coding challenges on platforms like:\\n   - [LeetCode](https://leetcode.com)\\n   - [HackerRank](https://www.hackerrank.com)\\n   - [Codewars](https://www.codewars.com)\\n\\n---\\n\\n### 9. **Join a Community**\\nConnect with other Python learners and developers:\\n   - [Reddit](https://www.reddit.com/r/learnpython/)\\n   - [Stack Overflow](https://stackoverflow.com/)\\n   - Python Discord servers.\\n\\n---\\n\\n### 10. **Set Up Your Environment**\\nInstall Python and a code editor or IDE (Integrated Development Environment):\\n   - Download Python from [https://www.python.org](https://www.python.org).\\n   - Popular IDEs: PyCharm, VS Code, Spyder, or even a simple text editor like Notepad++.\\n\\n---\\n\\n### Resources to Learn Python:\\n1. **Textbooks:**\\n   - *Python Crash Course* by Eric Matthes.\\n   - *Automate the Boring Stuff with Python* by Al Sweigart.\\n\\n2. **Online Courses:**\\n   - [Python for Everybody](https://www.coursera.org/specializations/python) (Coursera).\\n   - [Introduction to Python Programming](https://www.udemy.com/course/python-bootcamp/) (Udemy).\\n\\n3. **Websites:**\\n   - [Codecademy](https://www.codecademy.com/learn/learn-python-3).\\n   - [Real Python](https://realpython.com/).\\n\\n4. **YouTube Channels:**\\n   - Corey Schafer\\'s Python Tutorials.\\n   - freeCodeCamp.\\n\\n---\\n\\n### Final Note:\\nLearning Python (or any programming language) takes time and practice. Be consistent, and don’t be afraid to make mistakes. You’ll get better with time! Good luck, and have fun coding! 😊', additional_kwargs={}, response_metadata={'token_usage': {'completion_tokens': 1765, 'prompt_tokens': 32, 'total_tokens': 1797, 'completion_time': 6.418181818, 'prompt_time': 0.002106653, 'queue_time': 0.052335607, 'total_time': 6.420288471}, 'model_name': 'deepseek-r1-distill-llama-70b', 'system_fingerprint': 'fp_1bbe7845ec', 'finish_reason': 'stop', 'logprobs': None}, id='run--4842b279-82d2-415c-97cc-3a26335e5bde-0', usage_metadata={'input_tokens': 32, 'output_tokens': 1765, 'total_tokens': 1797})"
      ]
     },
     "execution_count": 10,
     "metadata": {},
     "output_type": "execute_result"
    }
   ],
   "source": [
    "result"
   ]
  },
  {
   "cell_type": "code",
   "execution_count": 15,
   "metadata": {},
   "outputs": [],
   "source": [
    "\n",
    "def add(a:int, b:int)-> int:\n",
    "    \"\"\" Add a and b\n",
    "    Args:\n",
    "       a (int): first int\n",
    "       b (int): second int\n",
    "    Returns:\n",
    "       int\n",
    "    \"\"\"\n",
    "    return a+b"
   ]
  },
  {
   "cell_type": "code",
   "execution_count": 17,
   "metadata": {},
   "outputs": [
    {
     "data": {
      "text/plain": [
       "[{'name': 'add',\n",
       "  'args': {'a': 2, 'b': 2},\n",
       "  'id': 'ytw0yyftd',\n",
       "  'type': 'tool_call'}]"
      ]
     },
     "execution_count": 17,
     "metadata": {},
     "output_type": "execute_result"
    }
   ],
   "source": [
    "###Binding tools wigth tool\n",
    "llm_with_tools=llm.bind_tools([add])\n",
    "tool_call=llm_with_tools.invoke([HumanMessage(content=f\"What is 2 plus 2\",name=\"Rajesh\")])\n",
    "tool_call.tool_calls"
   ]
  },
  {
   "cell_type": "code",
   "execution_count": null,
   "metadata": {},
   "outputs": [],
   "source": [
    "### Using messages as State"
   ]
  },
  {
   "cell_type": "code",
   "execution_count": 49,
   "metadata": {},
   "outputs": [],
   "source": [
    "from typing_extensions import TypedDict\n",
    "from langchain_core.messages import AnyMessage\n",
    "from langgraph.graph.message import add_messages\n",
    "from typing import Annotated\n",
    "\n",
    "class State(TypedDict):\n",
    "    messages:Annotated[list[AnyMessage], add_messages]"
   ]
  },
  {
   "cell_type": "markdown",
   "metadata": {},
   "source": [
    "### Reducers with add messages"
   ]
  },
  {
   "cell_type": "code",
   "execution_count": 29,
   "metadata": {},
   "outputs": [
    {
     "data": {
      "text/plain": [
       "[AIMessage(content='Please tell me how can i help', additional_kwargs={}, response_metadata={}, name='LLMModel'),\n",
       " HumanMessage(content='i want to learn coding', additional_kwargs={}, response_metadata={}, name='Rajesh')]"
      ]
     },
     "execution_count": 29,
     "metadata": {},
     "output_type": "execute_result"
    }
   ],
   "source": [
    "initial_messages=[AIMessage(content=f\"Please tell me how can i help\", name=\"LLMModel\")]\n",
    "initial_messages.append(HumanMessage(content=f\"i want to learn coding\", name=\"Rajesh\"))\n",
    "initial_messages"
   ]
  },
  {
   "cell_type": "code",
   "execution_count": 31,
   "metadata": {},
   "outputs": [
    {
     "data": {
      "text/plain": [
       "AIMessage(content='Which programming language you want to learn', additional_kwargs={}, response_metadata={}, name='LLMModel')"
      ]
     },
     "execution_count": 31,
     "metadata": {},
     "output_type": "execute_result"
    }
   ],
   "source": [
    "ai_messages=(AIMessage(content=f\"Which programming language you want to learn\", name=\"LLMModel\"))\n",
    "ai_messages\n"
   ]
  },
  {
   "cell_type": "code",
   "execution_count": 32,
   "metadata": {},
   "outputs": [
    {
     "data": {
      "text/plain": [
       "[AIMessage(content='Please tell me how can i help', additional_kwargs={}, response_metadata={}, name='LLMModel', id='821aab19-19bb-47bb-a8f8-6804bcb882ea'),\n",
       " HumanMessage(content='i want to learn coding', additional_kwargs={}, response_metadata={}, name='Rajesh', id='406de3da-6238-409f-9946-60c3c5dd7176'),\n",
       " AIMessage(content='Which programming language you want to learn', additional_kwargs={}, response_metadata={}, name='LLMModel', id='5a058cea-8789-43a4-a498-220de53b18e1')]"
      ]
     },
     "execution_count": 32,
     "metadata": {},
     "output_type": "execute_result"
    }
   ],
   "source": [
    "### Reducers append instead of override\n",
    "add_messages(initial_messages, ai_messages)"
   ]
  },
  {
   "cell_type": "code",
   "execution_count": 50,
   "metadata": {},
   "outputs": [],
   "source": [
    "###Chatbot node functionality\n",
    "def llm_tool(state:State):\n",
    "    return {\"messages\": [llm_with_tools.invoke(state[\"messages\"])]}"
   ]
  },
  {
   "cell_type": "code",
   "execution_count": 51,
   "metadata": {},
   "outputs": [
    {
     "data": {
      "image/png": "[encoded data removed]",
      "text/plain": [
       "<IPython.core.display.Image object>"
      ]
     },
     "metadata": {},
     "output_type": "display_data"
    }
   ],
   "source": [
    "from IPython.display import Image, display\n",
    "from langgraph.graph import StateGraph, START, END\n",
    "builder = StateGraph(State)\n",
    "\n",
    "builder.add_node(\"llm_tool\", llm_tool)\n",
    "builder.add_edge(START, \"llm_tool\")\n",
    "builder.add_edge(\"llm_tool\", END)\n",
    "\n",
    "workflow=builder.compile()\n",
    "display(Image(workflow.get_graph().draw_mermaid_png()))\n",
    "\n"
   ]
  },
  {
   "cell_type": "code",
   "execution_count": 54,
   "metadata": {},
   "outputs": [
    {
     "name": "stdout",
     "output_type": "stream",
     "text": [
      "================================\u001b[1m Human Message \u001b[0m=================================\n",
      "\n",
      "what is 2 plus 2\n",
      "==================================\u001b[1m Ai Message \u001b[0m==================================\n",
      "Tool Calls:\n",
      "  add (mtawxhmns)\n",
      " Call ID: mtawxhmns\n",
      "  Args:\n",
      "    a: 2\n",
      "    b: 2\n"
     ]
    }
   ],
   "source": [
    "result = workflow.invoke({\"messages\": [HumanMessage(content=\"what is 2 plus 2\")]})\n",
    "for message in result[\"messages\"]:\n",
    "    message.pretty_print()"
   ]
  },
  {
   "cell_type": "code",
   "execution_count": 55,
   "metadata": {},
   "outputs": [],
   "source": [
    "tools=[(add)]"
   ]
  },
  {
   "cell_type": "code",
   "execution_count": 56,
   "metadata": {},
   "outputs": [],
   "source": [
    "from langgraph.prebuilt import ToolNode\n",
    "from langgraph.prebuilt import tools_condition\n",
    "\n",
    "builder=StateGraph(State)\n",
    "## Add nodes\n",
    "\n",
    "builder.add_node(\"llm_tool\", llm_tool)\n",
    "builder.add_node(\"tools\", ToolNode(tools))\n",
    "builder.add_edge(START, \"llm_tool\")\n",
    "builder.add_conditional_edges(\"llm_tool\", tools_condition)\n",
    "builder.add_edge(\"tools\", END)\n",
    "\n",
    "graph_builder=builder.compile()\n"
   ]
  },
  {
   "cell_type": "code",
   "execution_count": 58,
   "metadata": {},
   "outputs": [
    {
     "data": {
      "image/png": "[encoded data removed]",
      "text/plain": [
       "<IPython.core.display.Image object>"
      ]
     },
     "metadata": {},
     "output_type": "display_data"
    }
   ],
   "source": [
    "display(Image(graph_builder.get_graph().draw_mermaid_png()))"
   ]
  },
  {
   "cell_type": "code",
   "execution_count": 62,
   "metadata": {},
   "outputs": [
    {
     "name": "stdout",
     "output_type": "stream",
     "text": [
      "================================\u001b[1m Human Message \u001b[0m=================================\n",
      "\n",
      "what is 2 plus 2\n",
      "==================================\u001b[1m Ai Message \u001b[0m==================================\n",
      "Tool Calls:\n",
      "  add (hndewyp4t)\n",
      " Call ID: hndewyp4t\n",
      "  Args:\n",
      "    a: 2\n",
      "    b: 2\n",
      "=================================\u001b[1m Tool Message \u001b[0m=================================\n",
      "Name: add\n",
      "\n",
      "4\n"
     ]
    }
   ],
   "source": [
    "## invocation\n",
    "\n",
    "messages=graph_builder.invoke({\"messages\": \"what is 2 plus 2\"})\n",
    "\n",
    "for message in messages[\"messages\"]:\n",
    "    message.pretty_print()"
   ]
  },
  {
   "cell_type": "code",
   "execution_count": 63,
   "metadata": {},
   "outputs": [
    {
     "name": "stdout",
     "output_type": "stream",
     "text": [
      "================================\u001b[1m Human Message \u001b[0m=================================\n",
      "\n",
      "what machine learning\n",
      "==================================\u001b[1m Ai Message \u001b[0m==================================\n",
      "\n",
      "Machine learning is a subset of artificial intelligence (AI) that involves the use of algorithms and statistical models to enable machines to perform a specific task without using explicit instructions, instead relying on patterns and inference from data. In simpler terms, machine learning allows systems to learn from data and improve their performance on a task over time.\n",
      "\n",
      "### Key Concepts in Machine Learning:\n",
      "1. **Types of Machine Learning:**\n",
      "   - **Supervised Learning:** The model is trained on labeled data (data with known outputs) to learn the mapping between inputs and outputs.\n",
      "   - **Unsupervised Learning:** The model is trained on unlabeled data and aims to find patterns or intrinsic structures in the data.\n",
      "   - **Reinforcement Learning:** The model learns by interacting with an environment and receiving rewards or penalties for actions, aiming to maximize cumulative reward.\n",
      "\n",
      "2. **Applications of Machine Learning:**\n",
      "   - **Predictive Analytics:** Forecasting future events based on past data (e.g., stock prices, weather).\n",
      "   - **Classification:** Assigning items to categories (e.g., spam detection, medical diagnosis).\n",
      "   - **Clustering:** Grouping similar data points (e.g., customer segmentation).\n",
      "   - **Natural Language Processing (NLP):** Understanding and generating human language (e.g., chatbots, translation).\n",
      "   - **Computer Vision:** Interpreting and generating visual data (e.g., facial recognition, object detection).\n",
      "\n",
      "3. **Common Challenges:**\n",
      "   - **Data Quality and Quantity:** Machine learning models require large amounts of high-quality, relevant data to perform well.\n",
      "   - **Overfitting/Underfitting:** Models may perform well on training data but fail on new data (overfitting) or fail to capture the underlying pattern (underfitting).\n",
      "   - **Bias and Fairness:** Ensuring that models do not perpetuate or amplify biases present in the training data.\n",
      "\n",
      "4. **Popular Machine Learning Libraries:**\n",
      "   - **Python:** Scikit-learn, TensorFlow, PyTorch\n",
      "   - **R:** caret, dplyr\n",
      "   - **Java:** Weka, Deeplearning4j\n",
      "\n",
      "### Getting Started with Machine Learning:\n",
      "1. **Learn the Basics:** Understand the fundamentals of statistics, linear algebra, and programming (especially Python).\n",
      "2. **Explore Tutorials and Courses:** Platforms like Coursera, edX, and Kaggle offer hands-on learning opportunities.\n",
      "3. **Practice with Projects:** Start with simple projects (e.g., predicting house prices, classifying images) to build experience.\n",
      "4. **Join Communities:** Engage with communities on Kaggle, GitHub, and Stack Overflow to learn from others and get feedback.\n",
      "\n",
      "If you have a specific question or need help with a particular aspect of machine learning, feel free to ask!\n"
     ]
    }
   ],
   "source": [
    "## invocation\n",
    "\n",
    "messages=graph_builder.invoke({\"messages\": \"what machine learning\"})\n",
    "\n",
    "for message in messages[\"messages\"]:\n",
    "    message.pretty_print()"
   ]
  }
 ],
 "metadata": {
  "kernelspec": {
   "display_name": "Python 3",
   "language": "python",
   "name": "python3"
  },
  "language_info": {
   "codemirror_mode": {
    "name": "ipython",
    "version": 3
   },
   "file_extension": ".py",
   "mimetype": "text/x-python",
   "name": "python",
   "nbconvert_exporter": "python",
   "pygments_lexer": "ipython3",
   "version": "3.12.0"
  }
 },
 "nbformat": 4,
 "nbformat_minor": 2
}
