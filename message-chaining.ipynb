{
 "cells": [
  {
   "cell_type": "code",
   "execution_count": 1,
   "metadata": {},
   "outputs": [],
   "source": [
    "from dotenv import load_dotenv\n",
    "load_dotenv()\n",
    "import os\n",
    "os.environ['GROQ_API_KEY'] = os.getenv(\"GROQ_API_KEY\")"
   ]
  },
  {
   "cell_type": "code",
   "execution_count": 6,
   "metadata": {},
   "outputs": [
    {
     "name": "stdout",
     "output_type": "stream",
     "text": [
      "==================================\u001b[1m Ai Message \u001b[0m==================================\n",
      "Name: LLMModel\n",
      "\n",
      "Please tell me how can i help\n",
      "================================\u001b[1m Human Message \u001b[0m=================================\n",
      "Name: Rajesh\n",
      "\n",
      "i want to learn coding\n",
      "==================================\u001b[1m Ai Message \u001b[0m==================================\n",
      "Name: LLMModel\n",
      "\n",
      "Which programming language you want to learn\n",
      "================================\u001b[1m Human Message \u001b[0m=================================\n",
      "Name: Rajesh\n",
      "\n",
      "I want to learn python\n"
     ]
    }
   ],
   "source": [
    "from langchain_core.messages import AIMessage, HumanMessage\n",
    "from pprint import pprint\n",
    "\n",
    "messages=[AIMessage(content=f\"Please tell me how can i help\", name=\"LLMModel\")]\n",
    "messages.append(HumanMessage(content=f\"i want to learn coding\", name=\"Rajesh\"))\n",
    "messages.append(AIMessage(content=f\"Which programming language you want to learn\", name=\"LLMModel\"))\n",
    "messages.append(HumanMessage(content=f\"I want to learn python\", name=\"Rajesh\"))\n",
    "\n",
    "for message in messages:\n",
    "    message.pretty_print()\n"
   ]
  },
  {
   "cell_type": "code",
   "execution_count": 9,
   "metadata": {},
   "outputs": [
    {
     "data": {
      "text/plain": [
       "{'token_usage': {'completion_tokens': 1765,\n",
       "  'prompt_tokens': 32,\n",
       "  'total_tokens': 1797,\n",
       "  'completion_time': 6.418181818,\n",
       "  'prompt_time': 0.002106653,\n",
       "  'queue_time': 0.052335607,\n",
       "  'total_time': 6.420288471},\n",
       " 'model_name': 'deepseek-r1-distill-llama-70b',\n",
       " 'system_fingerprint': 'fp_1bbe7845ec',\n",
       " 'finish_reason': 'stop',\n",
       " 'logprobs': None}"
      ]
     },
     "execution_count": 9,
     "metadata": {},
     "output_type": "execute_result"
    }
   ],
   "source": [
    "from langchain_groq import ChatGroq\n",
    "llm=ChatGroq(model=\"deepseek-r1-distill-llama-70b\")\n",
    "result=llm.invoke(messages)\n",
    "result.response_metadata"
   ]
  },
  {
   "cell_type": "code",
   "execution_count": 10,
   "metadata": {},
   "outputs": [
    {
     "data": {
      "text/plain": [
       "AIMessage(content='<think>\\nAlright, the user initially asked how they could help, which is pretty broad. I responded by asking which programming language they wanted to learn. They chose Python, which is a great choice for beginners because it\\'s user-friendly and versatile.\\n\\nNow, looking at their latest query, \"I want to learn python,\" I need to provide a structured and encouraging response. They\\'re probably just starting out, so I should make the information easy to digest.\\n\\nFirst, I should explain why Python is a good choice. It\\'s important to build their confidence and show that they made the right decision. Next, I\\'ll outline the steps they need to take. Starting with the basics makes sense, so I\\'ll break it down into sections like syntax, variables, control flow, functions, data structures, file handling, and OOP concepts.\\n\\nIncluding resources is crucial. They might not know where to start, so suggesting textbooks, online courses, websites, and YouTube channels can guide them. It\\'s also helpful to mention communities like Reddit and Stack Overflow for support.\\n\\nSetting up the environment is a practical step they\\'ll need to take, so I\\'ll walk them through installing Python and choosing an IDE. Starting small with simple projects will help them build confidence. I\\'ll list some project ideas to get them started.\\n\\nPractice is key, so I\\'ll emphasize consistent practice and maybe suggest coding challenges. Intermediate topics like libraries and frameworks should come next, with examples they can explore. Building real-world projects will help them apply what they\\'ve learned.\\n\\nFinally, I\\'ll encourage them to keep learning and remind them that practice is essential. Ending on a positive note will motivate them to keep going.\\n</think>\\n\\nGreat choice! Python is a wonderful programming language to learn, especially for beginners. It is simple, intuitive, and widely used in many fields like web development, data science, artificial intelligence, and more. Here’s a step-by-step guide to help you get started:\\n\\n---\\n\\n### 1. **Understand the Basics**\\nStart by learning the basic syntax and concepts of Python. This includes:\\n   - **Variables**: How to store and manipulate data.\\n   - **Print Function**: Outputting text or results.\\n   - **Comments**: How to add notes in your code.\\n   - **Indentation**: Python uses indentation to define code blocks.\\n\\n   **Example:**\\n   ```python\\n   # This is a comment\\n   print(\"Hello, World!\")  # This will print \"Hello, World!\"\\n   name = \"John\"  # Storing a string in a variable\\n   print(name)  # Output: John\\n   ```\\n\\n---\\n\\n### 2. **Learn Control Flow**\\nControl flow statements determine the flow of your program’s execution.\\n   - **If-Else Statements**: For conditional logic.\\n   - **For Loops**: For iterating over sequences (lists, tuples, etc.).\\n   - **While Loops**: For repeating tasks while a condition is true.\\n\\n   **Example:**\\n   ```python\\n   # If-Else Example\\n   age = 18\\n   if age >= 18:\\n       print(\"You are an adult.\")\\n   else:\\n       print(\"You are a minor.\")\\n\\n   # For Loop Example\\n   fruits = [\"Apple\", \"Banana\", \"Cherry\"]\\n   for fruit in fruits:\\n       print(fruit)\\n   ```\\n\\n---\\n\\n### 3. **Work with Functions**\\nFunctions are reusable blocks of code that perform specific tasks.\\n   - Define a function using `def`.\\n   - Call the function by its name.\\n\\n   **Example:**\\n   ```python\\n   def greet(name):\\n       print(f\"Hello, {name}!\")\\n\\n   greet(\"Alice\")  # Output: Hello, Alice!\\n   ```\\n\\n---\\n\\n### 4. **Understand Data Structures**\\nPython has several built-in data structures to store and manage data.\\n   - **Lists**: Ordered collections of items.\\n   - **Tuples**: Immutable ordered collections of items.\\n   - **Dictionaries**: Unordered collections of key-value pairs.\\n   - **Sets**: Unordered collections of unique items.\\n\\n   **Example:**\\n   ```python\\n   # List\\n   my_list = [1, 2, 3, \"Hello\"]\\n   print(my_list[0])  # Output: 1\\n\\n   # Dictionary\\n   person = {\"name\": \"John\", \"age\": 30}\\n   print(person[\"name\"])  # Output: John\\n   ```\\n\\n---\\n\\n### 5. **File Handling**\\nLearn how to read from and write to files.\\n   - Use `open()`, `read()`, `write()`, and `close()` functions.\\n\\n   **Example:**\\n   ```python\\n   # Writing to a file\\n   with open(\"greeting.txt\", \"w\") as file:\\n       file.write(\"Hello, World!\")\\n\\n   # Reading from a file\\n   with open(\"greeting.txt\", \"r\") as file:\\n       print(file.read())  # Output: Hello, World!\\n   ```\\n\\n---\\n\\n### 6. **Object-Oriented Programming (OOP)**\\nPython supports OOP concepts like classes and objects.\\n   - **Classes**: Templates for creating objects.\\n   - **Objects**: Instances of a class.\\n   - **Methods**: Functions defined inside a class.\\n\\n   **Example:**\\n   ```python\\n   class Car:\\n       def __init__(self, brand, model, year):\\n           self.brand = brand\\n           self.model = model\\n           self.year = year\\n\\n       def print_details(self):\\n           print(f\"This car is a {self.year} {self.brand} {self.model}.\")\\n\\n   my_car = Car(\"Toyota\", \"Corolla\", 2020)\\n   my_car.print_details()  # Output: This car is a 2020 Toyota Corolla.\\n   ```\\n\\n---\\n\\n### 7. **Use Libraries and Frameworks**\\nPython has a vast collection of libraries and frameworks that make development easier.\\n   - **Standard Library**: Built-in modules like `math`, `random`, `datetime`, etc.\\n   - **Third-Party Libraries**: Install using `pip` (e.g., `numpy`, `pandas`, `requests`, etc.).\\n\\n   **Example:**\\n   ```python\\n   import math\\n   print(math.pi)  # Output: 3.141592653589793\\n\\n   import requests\\n   response = requests.get(\"https://www.google.com\")\\n   print(response.status_code)  # Output: 200\\n   ```\\n\\n---\\n\\n### 8. **Practice, Practice, Practice!**\\nThe best way to learn Python is by writing code. Start with small projects like:\\n   - Calculator\\n   - To-Do List\\n   - Guessing Game\\n   - Web Scraper\\n\\nYou can also solve coding challenges on platforms like:\\n   - [LeetCode](https://leetcode.com)\\n   - [HackerRank](https://www.hackerrank.com)\\n   - [Codewars](https://www.codewars.com)\\n\\n---\\n\\n### 9. **Join a Community**\\nConnect with other Python learners and developers:\\n   - [Reddit](https://www.reddit.com/r/learnpython/)\\n   - [Stack Overflow](https://stackoverflow.com/)\\n   - Python Discord servers.\\n\\n---\\n\\n### 10. **Set Up Your Environment**\\nInstall Python and a code editor or IDE (Integrated Development Environment):\\n   - Download Python from [https://www.python.org](https://www.python.org).\\n   - Popular IDEs: PyCharm, VS Code, Spyder, or even a simple text editor like Notepad++.\\n\\n---\\n\\n### Resources to Learn Python:\\n1. **Textbooks:**\\n   - *Python Crash Course* by Eric Matthes.\\n   - *Automate the Boring Stuff with Python* by Al Sweigart.\\n\\n2. **Online Courses:**\\n   - [Python for Everybody](https://www.coursera.org/specializations/python) (Coursera).\\n   - [Introduction to Python Programming](https://www.udemy.com/course/python-bootcamp/) (Udemy).\\n\\n3. **Websites:**\\n   - [Codecademy](https://www.codecademy.com/learn/learn-python-3).\\n   - [Real Python](https://realpython.com/).\\n\\n4. **YouTube Channels:**\\n   - Corey Schafer\\'s Python Tutorials.\\n   - freeCodeCamp.\\n\\n---\\n\\n### Final Note:\\nLearning Python (or any programming language) takes time and practice. Be consistent, and don’t be afraid to make mistakes. You’ll get better with time! Good luck, and have fun coding! 😊', additional_kwargs={}, response_metadata={'token_usage': {'completion_tokens': 1765, 'prompt_tokens': 32, 'total_tokens': 1797, 'completion_time': 6.418181818, 'prompt_time': 0.002106653, 'queue_time': 0.052335607, 'total_time': 6.420288471}, 'model_name': 'deepseek-r1-distill-llama-70b', 'system_fingerprint': 'fp_1bbe7845ec', 'finish_reason': 'stop', 'logprobs': None}, id='run--4842b279-82d2-415c-97cc-3a26335e5bde-0', usage_metadata={'input_tokens': 32, 'output_tokens': 1765, 'total_tokens': 1797})"
      ]
     },
     "execution_count": 10,
     "metadata": {},
     "output_type": "execute_result"
    }
   ],
   "source": [
    "result"
   ]
  }
 ],
 "metadata": {
  "kernelspec": {
   "display_name": "Python 3",
   "language": "python",
   "name": "python3"
  },
  "language_info": {
   "codemirror_mode": {
    "name": "ipython",
    "version": 3
   },
   "file_extension": ".py",
   "mimetype": "text/x-python",
   "name": "python",
   "nbconvert_exporter": "python",
   "pygments_lexer": "ipython3",
   "version": "3.12.0"
  }
 },
 "nbformat": 4,
 "nbformat_minor": 2
}
